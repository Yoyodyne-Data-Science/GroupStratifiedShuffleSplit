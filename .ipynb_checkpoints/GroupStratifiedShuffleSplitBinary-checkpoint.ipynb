{
 "cells": [
  {
   "cell_type": "code",
   "execution_count": 145,
   "metadata": {},
   "outputs": [],
   "source": [
    "#!pip install tabulate"
   ]
  },
  {
   "cell_type": "code",
   "execution_count": 166,
   "metadata": {},
   "outputs": [],
   "source": [
    "from tabulate import tabulate\n",
    "import numpy as np\n",
    "import pandas as pd\n",
    "from collections import Counter\n",
    "from datetime import datetime\n",
    "import matplotlib.pyplot as plt\n",
    "import matplotlib.patches as patches\n",
    "from sklearn.ensemble import RandomForestClassifier\n",
    "from sklearn.model_selection import StratifiedShuffleSplit, GroupShuffleSplit, RandomizedSearchCV, KFold, StratifiedKFold, GroupKFold\n",
    "from scipy.stats import randint as sp_randint"
   ]
  },
  {
   "cell_type": "code",
   "execution_count": 3,
   "metadata": {},
   "outputs": [],
   "source": [
    "class GroupStratifiedShuffleSplitBinary:\n",
    "    \"\"\" A cross-validator (CV) object akin to sklearn's native GroupShuffleSplit or \n",
    "        StratifiedShuffleSplit where both groups AND stratification (currently only \n",
    "        with binary classification) are taken into account.\n",
    "        \n",
    "        target_var : the dataframe column which is the target to stratify by, \n",
    "        group_var  : the dataframe column which specifies the groups kept seperate\n",
    "                     in training and test splits, \n",
    "        frac_train : fraction to put as CV train set (frac_test = 1 - frac_train)\n",
    "        verbose    : provide textual feedback to user\n",
    "        beta       : (see below) \n",
    "        max_evals  : (see below)\n",
    "        n_splits   : number of splits to perform\n",
    "        \n",
    "        GroupStratifiedShuffleSplitBinary is initialized with group and target info,\n",
    "        using this we create a 'group_table' which has the format:\n",
    "        \n",
    "                                n_target | n_entries | ratio <-------- i.e. imbalance of group\n",
    "                             ===================================\n",
    "            group_id (index)|            |           | \n",
    "                            |            |           |\n",
    "                            |            |           |\n",
    "\n",
    "        The subsequent .split method then creates a training and test set\n",
    "        by randomly sampling groups from group_table with the goal that:\n",
    "\n",
    "                (i)  the number of entries in train/test are approx equal to \n",
    "                     those defined by the specified train fraction 'frac_train'\n",
    "                (ii) the ratio n_target/n_entries in train (and therefore test)\n",
    "                     is approx equal to that ratio for the entire dataset\n",
    "\n",
    "        Sampling from group_table continues until frac_train has been approx reached \n",
    "        (from below) OR until it has performed max_evals samples.\n",
    "            \n",
    "        Specifically, the train subset is formed by sampling from the group_table in\n",
    "        such a way that the probability of choosing a given group is related to the \n",
    "        difference Delta, where \n",
    "            \n",
    "            Delta := -([ratio-curr_train_imbalance] x sgn(curr_train_imbalance-data_set_imbalance))\n",
    "        \n",
    "        that is, when the current (partially filled) training set has a group \n",
    "        imbalance greater than that of the actual dataset we're sampling from, \n",
    "        groups with imbalance less than the current train imbalance are \n",
    "        preferentially selected (and vice versa). Concretely, the probabilty\n",
    "        of next selecting group i to add to our training set is:\n",
    "        \n",
    "            P(i) = softmax(Delta(i) x beta)\n",
    "        \n",
    "        By sampling from the group_table we are guaranteed to have the desired\n",
    "        property that groups are never mixed between train and test. However, we\n",
    "        can't simply draw groups randomly, because we want a train set with the \n",
    "        same imbalance as the overall data set. This probabalistic method of \n",
    "        choosing means that the partial training set's imbalance oscillates, \n",
    "        hopefully converging on the desired (i.e. data set) imbalance.\n",
    "        \n",
    "        This can have the downside that groups with extreme values of imbalance\n",
    "        (high or low) are preferentially chosen. It is therefore necessary to\n",
    "        modify the parameter beta to find a satisfactory balance between groups\n",
    "        being uniformly selected, and the training set being stratified (e.g.\n",
    "        by using the method test_make_one_group_stratified_shuffle_split).\n",
    "        \n",
    "        The fact that GroupStratifiedShuffleSplitBinary is initialized with \n",
    "        all required info makes it a bit different from the usual sklearn\n",
    "        cross-validators. The result is that the split method returns train-test\n",
    "        indeces even without input. But of course when called through an sklearn\n",
    "        method e.g. RandomSearchCV().fit(X,y), the X and y must match to the data\n",
    "        passed in to initialize GroupStratifiedShuffleSplitBinary.\n",
    "        \n",
    "    \"\"\"\n",
    "    \n",
    "    def __init__(self, target_var, group_var, frac_train = 0.8, verbose = False, \n",
    "                 beta=100, max_evals = 1e6, n_splits = 3):\n",
    "        \"\"\" target_var is the dataframe coloum which is the target, group_var is the \n",
    "            dataframe column which specifies the group, n_splits is number of splits to perform\n",
    "        \"\"\"\n",
    "        \n",
    "        self.target_var = target_var \n",
    "        self.group_var = group_var\n",
    "        self.frac_train = frac_train\n",
    "        self.n_splits = n_splits\n",
    "        self.verbose = verbose\n",
    "        self.beta = beta\n",
    "        self.max_evals = max_evals\n",
    "        # we'll often want to know the data set imbalance\n",
    "        self.data_set_imbalance = np.sum(self.target_var==1)/len(self.target_var)\n",
    "        if self.verbose:\n",
    "            print('Created GroupStratifiedShuffleSplit object for stratified splitting of binary class data with groups.')\n",
    "            print('Total df entries = {}, total groups = {}, N(y=0)/(N(y=0)+N(y=1)) = {:.4f}'.format(\n",
    "                len(self.target_var),\n",
    "                len(self.group_var.unique()),\n",
    "                self.data_set_imbalance\n",
    "            ))\n",
    "        # make the group table we'll use for sampling\n",
    "        self.make_group_table()\n",
    "        # train_groups and test groups are lists of group labels for train and test\n",
    "        self.train_groups = []\n",
    "        self.test_groups = []\n",
    "    \n",
    "    def __iter__(self):\n",
    "        return self\n",
    "    \n",
    "    def __next__(self):\n",
    "        result = self.split()\n",
    "        return result\n",
    "    \n",
    "    def make_group_table(self):\n",
    "        \"\"\" make a pandas table with info on each group which will be used later\n",
    "        \"\"\"\n",
    "        \n",
    "        self.group_table = pd.DataFrame({'group_id':self.group_var,\n",
    "             'flag':self.target_var}).groupby('group_id').agg(['sum', 'count'])\n",
    "        self.group_table.columns = self.group_table.columns.droplevel()\n",
    "        self.group_table.rename(columns={'sum':'n_target', 'count':'n_entries'}, inplace=True)\n",
    "        self.group_table['ratio'] = self.group_table['n_target']/self.group_table['n_entries']\n",
    "        # make a numpy version with columns [ group_id | n_target | n_entries | ratio ]\n",
    "        self.group_numpyarray = self.group_table.reset_index().values\n",
    "        if self.verbose:\n",
    "            print('Generated group_table')\n",
    "        \n",
    "    def make_one_group_stratified_shuffle_split(self):\n",
    "        \"\"\" Given a numpy 'group_numpyarray' which has columns:\n",
    "            [ group_id | n_target | n_entries | ratio ], make a \n",
    "            train test split in the manner described in the docstring\n",
    "                                \n",
    "        \"\"\"\n",
    "\n",
    "        # choose group at random to kick things off\n",
    "        train_groups = [choice(self.group_numpyarray[:,0])]\n",
    "        curr_train_frac = np.sum(self.group_numpyarray[np.isin(self.group_numpyarray[:,0],train_groups),2])/np.sum(self.group_numpyarray[:,2])\n",
    "        curr_train_imbalance = np.sum(self.group_numpyarray[np.isin(self.group_numpyarray[:,0],train_groups),1])/np.sum(self.group_numpyarray[np.isin(self.group_numpyarray[:,0],train_groups),2])\n",
    "\n",
    "        iterator = 0\n",
    "        while (curr_train_frac < self.frac_train) & (iterator<=self.max_evals): # \n",
    "\n",
    "            if self.verbose:\n",
    "                print('(Step {}) Train fraction = {:.4f}, Train imbalance = {:.4f} (full set = {:.4f})'.format(iterator,\n",
    "                                                                                                           curr_train_frac, \n",
    "                                                                                                           curr_train_imbalance, \n",
    "                                                                                                           self.data_set_imbalance))\n",
    "            # calculate preference for choosing next customer (boltz dist)\n",
    "            next_choice_vec = -1.0*(self.group_numpyarray[~np.isin(self.group_numpyarray[:,0], train_groups), 3]-curr_train_imbalance)*np.sign(curr_train_imbalance-self.data_set_imbalance)\n",
    "            next_choice_vec = np.array(next_choice_vec, dtype=np.float64)\n",
    "            boltz_prob = np.exp(next_choice_vec*self.beta)/np.sum(np.exp(next_choice_vec*self.beta))\n",
    "            # now make choice\n",
    "            train_groups = np.append(train_groups, choice(self.group_numpyarray[~np.isin(self.group_numpyarray[:,0], train_groups), 0], p = boltz_prob))\n",
    "            # calculate updated properties\n",
    "            curr_train_frac = np.sum(self.group_numpyarray[np.isin(self.group_numpyarray[:,0],train_groups),2])/np.sum(self.group_numpyarray[:,2])\n",
    "            curr_train_imbalance = np.sum(self.group_numpyarray[np.isin(self.group_numpyarray[:,0],train_groups),1])/np.sum(self.group_numpyarray[np.isin(self.group_numpyarray[:,0],train_groups),2])\n",
    "            iterator = iterator +1 \n",
    "\n",
    "        # test set is then anything not in train set\n",
    "        test_groups = self.group_numpyarray[~np.isin(self.group_numpyarray[:,0], train_groups), 0]\n",
    "\n",
    "        if self.verbose:\n",
    "            if iterator == self.max_evals:\n",
    "                print('\\nExited having reached max number of evaluations ({})'.format(self.max_evals))\n",
    "            else:\n",
    "                print('\\nCompleted succesfully with:')\n",
    "                print('Train fraction = {:.4f}, Train imbalance = {:.4f} (full set = {:.4f})'.format(curr_train_frac, \n",
    "                                                                                                         curr_train_imbalance, \n",
    "                                                                                                         self.data_set_imbalance))\n",
    "\n",
    "                curr_test_frac = np.sum(self.group_numpyarray[~np.isin(self.group_numpyarray[:,0],train_groups),2])/np.sum(self.group_numpyarray[:,2])\n",
    "                curr_test_imbalance = np.sum(self.group_numpyarray[~np.isin(self.group_numpyarray[:,0],train_groups),1])/np.sum(self.group_numpyarray[~np.isin(self.group_numpyarray[:,0],train_groups),2])\n",
    "\n",
    "                print('Test fraction = {:.4f}, Test imbalance = {:.4f} (full set = {:.4f})'.format(curr_test_frac, \n",
    "                                                                                                       curr_test_imbalance, \n",
    "                                                                                                       self.data_set_imbalance))\n",
    "                print('|Train_groups| = {}, |Test_groups| = {}'.format(len(train_groups), len(test_groups)))\n",
    "        \n",
    "        self.train_groups = train_groups\n",
    "        self.test_groups = test_groups\n",
    "        self.curr_train_frac = curr_train_frac\n",
    "        self.curr_train_imbalance = curr_train_imbalance\n",
    "\n",
    "    def split(self, X=[], y=[], groups = None):\n",
    "        \"\"\" Return indices of train and test splits\n",
    "        \"\"\"\n",
    "        \n",
    "        for isplit in range(self.n_splits):\n",
    "            # make a train test split\n",
    "            self.make_one_group_stratified_shuffle_split()\n",
    "            # get the appropriate indices\n",
    "            \n",
    "            train_indx = self.group_var[self.group_var.isin(self.train_groups)].index\n",
    "            test_indx = self.group_var[self.group_var.isin(self.test_groups)].index\n",
    "            # N.B. sklearn wants positional locations (iloc)! Not indices (loc)!\n",
    "            # they also must be numoy arrays so that they have a \"flag\" property\n",
    "            train_indx = np.array([self.group_var.index.get_loc(idx) for idx in train_indx])\n",
    "            test_indx = np.array([self.group_var.index.get_loc(idx) for idx in test_indx])\n",
    "            \n",
    "            \n",
    "            yield train_indx, test_indx\n",
    "        \n",
    "    def get_n_splits(self, X, y, groups = None):\n",
    "        return self.n_splits\n",
    "\n",
    "    \n",
    "    def test_make_one_group_stratified_shuffle_split(self, iterations = 100):\n",
    "        \"\"\" make a plot to see how well make_one_group_stratified_shuffle_split is shuffling\n",
    "            the groups\n",
    "        \"\"\"\n",
    "        \n",
    "        t1 = time()\n",
    "        self.make_one_group_stratified_shuffle_split()\n",
    "        train_group_multiple = self.train_groups.copy()\n",
    "        stratification_arr = [self.curr_train_imbalance]\n",
    "        for l in range(iterations-1):\n",
    "            self.make_one_group_stratified_shuffle_split()\n",
    "            train_group_multiple = np.append(train_group_multiple, self.train_groups)\n",
    "            stratification_arr = np.append(stratification_arr, self.curr_train_imbalance)\n",
    "        \n",
    "        train_group_multiple.sort()\n",
    "        count_groups=Counter(train_group_multiple)\n",
    "        fig, ax = plt.subplots(figsize=[32, 16])\n",
    "        ax.bar(x = np.arange(len(count_groups)), height=[count_groups[count] for count in count_groups], color = np.array([95, 75, 139])/255)\n",
    "        ax.set_xticks(np.arange(len(count_groups)))\n",
    "        ax.set_xticklabels([group for group in count_groups], rotation = 90)\n",
    "        \n",
    "        ax_r = ax.twinx()\n",
    "        ax_r.scatter(np.arange(len(count_groups)), self.group_table.loc[self.group_table.index.isin([group for group in count_groups])].sort_index().ratio, color = np.array([228, 93, 191])/255)\n",
    "        ax_r.set_ylabel('N(y=0)/(N(y=0)+N(y=1))')\n",
    "        ax.set_title('n_iterations = {}, train_frac = {}, beta = {}'.format(iterations, self.frac_train, self.beta))\n",
    "        ax.set_ylabel('n_times occurred in training set')\n",
    "        ax.set_xlim(-1, len(count_groups))\n",
    "        plt.show()\n",
    "        \n",
    "        print('Stratification = {:.4f} +/- {:.4f} (target = {:.4f})'.format(np.mean(stratification_arr), np.std(stratification_arr), self.data_set_imbalance))\n",
    "        print('(Time taken for calcualtion = {:.2}s)'.format((time()-t1)))\n",
    "\n",
    "# the following aren't codes related to the splitter itself, but are required to run the example\n",
    "def went_to_top_uni_TF(poly_params, df, imbalance, final_year_arr, change_year_factor, noise):\n",
    "    \"\"\" Calculate Boolean indicator\n",
    "    \"\"\"\n",
    "    \n",
    "    non_linear_model = (poly_params[0]*(df.weight_kg**poly_params[1])+poly_params[2]*(df.height_cm**poly_params[3])+poly_params[4]*(df.iq**poly_params[5]))*(df['final_year'].apply(lambda x: dict(zip(final_year_arr, change_year_factor))[x]))\n",
    "    non_linear_model_noisy = non_linear_model + np.random.normal(0, np.std(non_linear_model)*noise, len(non_linear_model))\n",
    "\n",
    "    return non_linear_model_noisy>np.percentile(non_linear_model_noisy, (1-imbalance)*100)\n",
    "\n",
    "def make_student_table(n_subjects, n_groups, imbalance, noise, yrly_std, poly_params = None):\n",
    "    \"\"\" Make the student_table\n",
    "    \"\"\"\n",
    "    \n",
    "    final_year_arr = np.arange(datetime.today().year-n_groups, datetime.today().year)\n",
    "    if len(final_year_arr) == 1:\n",
    "        final_year_arr = final_year_arr+1\n",
    "    \n",
    "    change_year_factor = np.random.normal(1, yrly_std, n_groups)\n",
    "    # poly params are of format [coeff_1, exponent_1, coeff_2, exponent_2, ...]\n",
    "    exp_lims = [-2, 2]\n",
    "    coeff_lims = [-10, 10]\n",
    "    \n",
    "    if poly_params is None:\n",
    "        poly_params = [\n",
    "                        np.random.random()*(coeff_lims[1]-coeff_lims[0])+coeff_lims[0], np.random.random()*(exp_lims[1]-exp_lims[0])+exp_lims[0], \n",
    "                        np.random.random()*(coeff_lims[1]-coeff_lims[0])+coeff_lims[0], np.random.random()*(exp_lims[1]-exp_lims[0])+exp_lims[0],\n",
    "                        np.random.random()*(coeff_lims[1]-coeff_lims[0])+coeff_lims[0], np.random.random()*(exp_lims[1]-exp_lims[0])+exp_lims[0]\n",
    "                      ]\n",
    "\n",
    "    name_array = pd.read_csv(\"./data/baby-names.csv\", header = 0).name.values\n",
    "    student_df = pd.DataFrame(data = {  'name' : np.random.choice(name_array, n_subjects),\n",
    "                                        'weight_kg' : np.random.normal(50, 10, n_subjects),\n",
    "                                        'height_cm' : np.random.normal(130, 30, n_subjects),\n",
    "                                        'iq' : np.random.normal(100, 20, n_subjects),\n",
    "                                        'final_year' : np.random.choice(final_year_arr, n_subjects),\n",
    "                                      })\n",
    "\n",
    "    # calculate indicator\n",
    "    student_df['went_to_top_uni'] = went_to_top_uni_TF(poly_params, student_df, imbalance, final_year_arr, change_year_factor, noise)\n",
    "    \n",
    "    return student_df, poly_params\n",
    "  \n",
    "def plot_hyper_parameter_search_result(random_search_result, title = '', pyplot_ax = None, pyplot_fig = None):\n",
    "    \"\"\" Given a random search object (e.g. created by the function do_random_hyper_parameter_search),\n",
    "        plot model score as function of iterations\n",
    "    \"\"\"\n",
    "    \n",
    "    plt.rcParams.update({'font.size': 14})\n",
    "    \n",
    "    if pyplot_ax is None:\n",
    "        fig, ax = plt.subplots(1,1, figsize = [8,8])\n",
    "    else:\n",
    "        ax = pyplot_ax\n",
    "        fig = pyplot_fig\n",
    "    \n",
    "    iter_dat = random_search_result.cv_results_['mean_test_score']\n",
    "    dashbest = max(iter_dat)\n",
    "    ax.plot(range(0, len(iter_dat)), np.repeat(dashbest, len(iter_dat)), '--', c='xkcd:light green')\n",
    "    ax.scatter(range(0, len(iter_dat)), iter_dat, c='xkcd:purple', s = 50)\n",
    "    ax.set_xlabel('Iterations')\n",
    "    ax.set_ylabel('Area under precision-recall curve')\n",
    "    ax.set_title(title)\n",
    "    \n",
    "    plt.show()\n",
    "    display(fig)\n",
    "    \n",
    "def plot_multiple_hyperplots(result_dict):\n",
    "    \"\"\" result_dict is a dictionary {title for result: result object, ...}\n",
    "    \"\"\"\n",
    "    \n",
    "    \n",
    "    # see what the axis limits will be\n",
    "    y_ax_lims = np.array([])\n",
    "    for result in result_dict:\n",
    "        y_ax_lims = np.append(y_ax_lims, result_dict[result].cv_results_['mean_test_score'])\n",
    "        y_ax_lims= [np.min(y_ax_lims), np.max(y_ax_lims)]\n",
    "    \n",
    "    y_ax_lims = [np.floor(y_ax_lims[0]*10)/10, np.ceil(y_ax_lims[1]*10)/10]\n",
    "    \n",
    "    fig, ax = plt.subplots(1,len(result_dict), figsize = [18,8])\n",
    "    for idx, result in enumerate(result_dict):\n",
    "        plot_hyper_parameter_search_result(result_dict[result], title = result, pyplot_ax = ax[idx], pyplot_fig = fig)\n",
    "        ax[idx].set_ylim(y_ax_lims)\n",
    "    \n",
    "    plt.show()\n",
    "    display(fig)"
   ]
  },
  {
   "cell_type": "code",
   "execution_count": 22,
   "metadata": {},
   "outputs": [],
   "source": [
    "# number of students in dataset\n",
    "n_subjects = 1000\n",
    "# number of year groups (these will be our groups)\n",
    "n_groups = 20\n",
    "# how imbalanced is the data set? I.e. what fraction went to top uni\n",
    "imbalance = 0.1\n",
    "# put some noise in the generated data by adding samples from a gaussian with \n",
    "# mean 0 and std given by (noise x  std(calculated data))\n",
    "noise = 0.1\n",
    "# size of deviation between years -- scores from each year are multiplied \n",
    "# by a factor N(1, yrly_std)\n",
    "yrly_std = 0.1"
   ]
  },
  {
   "cell_type": "markdown",
   "metadata": {},
   "source": [
    "<img src=\"yoydyne data science logo_2_wide.png\" alt=\"Yoyodyne Corporation, Data Science Division\" style=\"align: center\"/>\n",
    "\n",
    "# Group Stratified Shuffle Split (Binary)\n",
    "\n",
    "Before jumping into the specifics of this cross-validator, perhaps it's wise to remind ourselves why we use cross-validation when training our models, and to discuss which types of cross-validators are open to us. \n",
    "\n",
    "## Life without cross-validation\n",
    "\n",
    "When presented with a dataset containing various features along with some target variable, typically our goal is not simply to fit a model leading to the lowest loss function on the dataset. Rather, we are interested in finding a model which will perform well on unseen data. For example, after training a model on some historical stock price data, we would most likely judge that model's success on how well it predicts tomorrow's stock prices, rather than the $R^2$ coefficient it acheived on historical data.\n",
    "\n",
    "To this end, we typically segregate our data into train and test splits, where the former is used to train our model, and the latter is used to evaluate its performance. That is, the test split is data excluded from the training process for the explicit purpose of validating our model's generalizability. So far, so good. \n",
    "\n",
    "<img src=\"train_test_cubes.png\" alt=\"Train-test split\" style=\"width: 400px; align: center\"/>\n",
    "\n",
    "However, within the three words *train our model* lies a great deal of detail, and so as the [saying goes](https://en.wikipedia.org/wiki/The_devil_is_in_the_detail), also lies, the devil. For, even if we restrict ourselves to a single algorithm, we still have a number (usually infinite) number of models to choose from. Take for example a [Random Forest](https://scikit-learn.org/stable/modules/generated/sklearn.ensemble.RandomForestClassifier.html), we could train a given forest with a specified number of trees, class weight, maximum tree depth etc. on our training data, and then ascertain it's performance by evaluating it on the test data. Now however, say we have a feeling that altering some properties of our random forest (e.g. increasing the number of trees), will improve the performance of our model. We can again train this new forest on our training set, and decide to keep it or stick with our previous random forest depending on how well each performed on our test data.\n",
    "\n",
    "But why stop there? We could repeat the same process, performing a search over an entire hyper parameter space, by choosing points (e.g. on a grid or by random sampling) in that space, training a forest with those hyperparameters, and evaluating its performance on held-out test data. After searching over what we deem to be a sufficient number of hyperparameters, we'll just choose the model which scored best on the test data.\n",
    "\n",
    "The problem however, is that in optimizing our model in such a manner, we have gone against our entire premise of splitting data into training and test; by holding out a portion of the data we were trying to ascertain how well a model would perform on unseen data, *but by refining hyperparameters on the test score we have unwittingly optimized a model which performs very well on the data we were given, and have no idea how it will generalize*. Essentially we have re-combined the train and test splits.\n",
    "\n",
    "<img src=\"train_nottest_cubes.png\" alt=\"Train-test not so split\" style=\"width: 330px; align: center\"/>\n",
    "\n",
    "## Cross-validation saves the day\n",
    "\n",
    "Fortunately, cross-validation provides us with a solution to this problem. Though, as we will see, there are many cross-validators available to us as data scientists, they all work under the same basic premise; by (repeatedly) segregating the training data into a portion for testing and a portion for evaluating a model, we're able to compare various models, whilst reserving the test data for a final evaluation of the best performing model.\n",
    "\n",
    "To make this concrete, we canconsider 4-fold cross-validation, as shown diagramatically below\n",
    "\n",
    "<img src=\"4fold-cv.png\" alt=\"4 fold cross validation\" style=\"width: 310px; align: center\"/>\n",
    "\n",
    "Here, we split our data into 4-folds, train a model on three of the folds (white cubes), and evaluate it on the fourth (grey cubes). We carry out this procedure four times, and can estimate the model's test error by evaluating the average test error of these four trials. (As a technical aside, it is interesting to note that there exists no unbiased estimator of the variance of such a k-fold cross-validation [(Bengio and Grandvalet, 2004)](www.jmlr.org/papers/volume5/grandvalet04a/grandvalet04a.pdf)).\n",
    "\n",
    "Using this procedure, we can happily perform our exploration of hyperparameter space, cross-validating at each point, computing a test error estimate from this, and selecting our best performing model. We can then evaluate this model on the held-out test data to give us an estimate of how well it will perform in the real world. "
   ]
  },
  {
   "cell_type": "markdown",
   "metadata": {},
   "source": [
    "## Cross-validators\n",
    "\n",
    "There are a number of cross validators available to us as data scientists, here I'll review some of those provided by the `sklearn` library, loosely based on the summary shown here [here](https://scikit-learn.org/stable/auto_examples/model_selection/plot_cv_indices.html#sphx-glr-auto-examples-model-selection-plot-cv-indices-py).\n",
    "\n",
    "For this example, we'll consider a generated dataset of 20 students, each student has a name, a year of graduation, and a boolean indicator showing whether they went on to study at university or not. The first 5 rows of the dataframe are as follows:\n",
    "\n",
    "| name   | uni (y/n)   |   year |\n",
    "|:-------|:------------|-------:|\n",
    "| Daryl  | y           |   2014 |\n",
    "| Keith  | y           |   2014 |\n",
    "| Gwen   | n           |   2014 |\n",
    "| Sidney | n           |   2014 |\n",
    "| Elisha | n           |   2014 |"
   ]
  },
  {
   "cell_type": "code",
   "execution_count": 171,
   "metadata": {},
   "outputs": [
    {
     "data": {
      "text/html": [
       "<div>\n",
       "<style scoped>\n",
       "    .dataframe tbody tr th:only-of-type {\n",
       "        vertical-align: middle;\n",
       "    }\n",
       "\n",
       "    .dataframe tbody tr th {\n",
       "        vertical-align: top;\n",
       "    }\n",
       "\n",
       "    .dataframe thead th {\n",
       "        text-align: right;\n",
       "    }\n",
       "</style>\n",
       "<table border=\"1\" class=\"dataframe\">\n",
       "  <thead>\n",
       "    <tr style=\"text-align: right;\">\n",
       "      <th></th>\n",
       "      <th>name</th>\n",
       "      <th>uni (y/n)</th>\n",
       "      <th>year</th>\n",
       "    </tr>\n",
       "  </thead>\n",
       "  <tbody>\n",
       "    <tr>\n",
       "      <th>0</th>\n",
       "      <td>Daryl</td>\n",
       "      <td>y</td>\n",
       "      <td>2014</td>\n",
       "    </tr>\n",
       "    <tr>\n",
       "      <th>1</th>\n",
       "      <td>Keith</td>\n",
       "      <td>y</td>\n",
       "      <td>2014</td>\n",
       "    </tr>\n",
       "    <tr>\n",
       "      <th>2</th>\n",
       "      <td>Gwen</td>\n",
       "      <td>n</td>\n",
       "      <td>2014</td>\n",
       "    </tr>\n",
       "    <tr>\n",
       "      <th>3</th>\n",
       "      <td>Sidney</td>\n",
       "      <td>n</td>\n",
       "      <td>2014</td>\n",
       "    </tr>\n",
       "    <tr>\n",
       "      <th>4</th>\n",
       "      <td>Elisha</td>\n",
       "      <td>n</td>\n",
       "      <td>2014</td>\n",
       "    </tr>\n",
       "  </tbody>\n",
       "</table>\n",
       "</div>"
      ],
      "text/plain": [
       "     name uni (y/n)  year\n",
       "0   Daryl         y  2014\n",
       "1   Keith         y  2014\n",
       "2    Gwen         n  2014\n",
       "3  Sidney         n  2014\n",
       "4  Elisha         n  2014"
      ]
     },
     "execution_count": 171,
     "metadata": {},
     "output_type": "execute_result"
    }
   ],
   "source": [
    "name_array = pd.read_csv(\"./data/baby-names.csv\", header = 0).name.values\n",
    "len_array = 20\n",
    "names = np.random.choice(name_array,len_array)\n",
    "school_year = np.append(np.repeat('2014', len_array*0.6),np.repeat('2015', len_array*0.4))\n",
    "went_to_uni = np.append(np.append(np.append(np.repeat('y', np.ceil(len_array*0.6*0.1)),\n",
    "                                  np.repeat('n', np.floor(len_array*0.6*0.9))),\n",
    "                       np.repeat('y', np.ceil(len_array*0.4*0.2))),np.repeat('n', np.floor(len_array*0.4*0.8)))\n",
    "\n",
    "student_df = pd.DataFrame(data = {'name':names, 'year':school_year, 'uni (y/n)':went_to_uni})\n",
    "student_df.head()"
   ]
  },
  {
   "cell_type": "code",
   "execution_count": 172,
   "metadata": {},
   "outputs": [
    {
     "name": "stdout",
     "output_type": "stream",
     "text": [
      "| name   | uni (y/n)   |   year |\n",
      "|:-------|:------------|-------:|\n",
      "| Daryl  | y           |   2014 |\n",
      "| Keith  | y           |   2014 |\n",
      "| Gwen   | n           |   2014 |\n",
      "| Sidney | n           |   2014 |\n",
      "| Elisha | n           |   2014 |\n"
     ]
    }
   ],
   "source": [
    "print(tabulate(student_df.set_index('name').head(), tablefmt=\"pipe\", headers=\"keys\"))"
   ]
  },
  {
   "cell_type": "markdown",
   "metadata": {},
   "source": [
    "We can also plot our dataset:"
   ]
  },
  {
   "cell_type": "code",
   "execution_count": 173,
   "metadata": {},
   "outputs": [
    {
     "data": {
      "image/png": "[encoded data removed]",
      "text/plain": [
       "<Figure size 720x576 with 1 Axes>"
      ]
     },
     "metadata": {},
     "output_type": "display_data"
    }
   ],
   "source": [
    "box_width = 0.4\n",
    "c_arr = ['#0957C3',\n",
    "         '#D14124',\n",
    "         '#008330',\n",
    "         '#F2A900',\n",
    "         '#6B3077',\n",
    "         '#2CD5C4']\n",
    "\n",
    "fig, ax = plt.subplots(figsize = [10, 8])\n",
    "\n",
    "\n",
    "for subject, yr in enumerate(school_year):\n",
    "        if yr == '2014':\n",
    "            ax.add_patch(patches.Rectangle((subject-0.5,0-box_width/2),1,box_width,facecolor = c_arr[2],\n",
    "                                          label = '2014'))\n",
    "            \n",
    "        if yr == '2015':\n",
    "            ax.add_patch(patches.Rectangle((subject-0.5,0-box_width/2),1,box_width,facecolor = c_arr[3],\n",
    "                                          label = '2015'))\n",
    "            \n",
    "for subject, unibool in enumerate(went_to_uni):\n",
    "        if unibool == 'y':\n",
    "            ax.add_patch(patches.Rectangle((subject-0.5,-1-box_width/2),1,box_width,facecolor = c_arr[4],\n",
    "                                          label = 'y'))\n",
    "        if unibool == 'n':\n",
    "            ax.add_patch(patches.Rectangle((subject-0.5,-1-box_width/2),1,box_width,facecolor = c_arr[5],\n",
    "                                          label = 'n'))\n",
    "\n",
    "ax.set_xticks(np.arange(0, len_array))\n",
    "ax.set_xticklabels(names, rotation = 90)\n",
    "ax.set_ylim([-1.3, 0.3])\n",
    "ax.set_xlim([-1.5,len_array])\n",
    "ax.set_yticks(np.arange(-1,1))\n",
    "ax.set_ylabel('CV iteration')\n",
    "yticks = ['uni (y/n)', 'year']\n",
    "ax.set_yticklabels(yticks)\n",
    "plt.savefig('initial_data_plot.png', dpi = 300, bbox_inches = 'tight')\n",
    "plt.show()"
   ]
  },
  {
   "cell_type": "markdown",
   "metadata": {},
   "source": [
    "Where the graduation year (<span style=\"color:#008330\">2014</span>, <span style=\"color:#F2A900\">2015</span>) for each student and whether they went on to attend uni (<span style=\"color:#6B3077\">yes</span>, <span style=\"color:#2CD5C4\">no</span>) is noted."
   ]
  },
  {
   "cell_type": "markdown",
   "metadata": {},
   "source": [
    "### k-fold CV"
   ]
  },
  {
   "cell_type": "markdown",
   "metadata": {},
   "source": [
    "Now let's see how different cross-validators partition this dataset. First of all we'll consider the k-fold cross validation described above, just as in that description, we'll use 4-folds."
   ]
  },
  {
   "cell_type": "code",
   "execution_count": 174,
   "metadata": {},
   "outputs": [
    {
     "data": {
      "image/png": "[encoded data removed]",
      "text/plain": [
       "<Figure size 720x576 with 1 Axes>"
      ]
     },
     "metadata": {},
     "output_type": "display_data"
    }
   ],
   "source": [
    "n_splits = 4\n",
    "\n",
    "cv_iter = KFold(n_splits=n_splits).split(np.arange(0,20))\n",
    "\n",
    "fig, ax = plt.subplots(figsize = [10, 8])\n",
    "\n",
    "box_width = 0.8\n",
    "\n",
    "for subject, yr in enumerate(school_year):\n",
    "        if yr == '2014':\n",
    "            ax.add_patch(patches.Rectangle((subject-0.5,0-box_width/2),1,box_width,facecolor = c_arr[2],\n",
    "                                          label = '2014'))\n",
    "            \n",
    "        if yr == '2015':\n",
    "            ax.add_patch(patches.Rectangle((subject-0.5,0-box_width/2),1,box_width,facecolor = c_arr[3],\n",
    "                                          label = '2015'))\n",
    "            \n",
    "for subject, unibool in enumerate(went_to_uni):\n",
    "        if unibool == 'y':\n",
    "            ax.add_patch(patches.Rectangle((subject-0.5,-1-box_width/2),1,box_width,facecolor = c_arr[4],\n",
    "                                          label = 'y'))\n",
    "        if unibool == 'n':\n",
    "            ax.add_patch(patches.Rectangle((subject-0.5,-1-box_width/2),1,box_width,facecolor = c_arr[5],\n",
    "                                          label = 'n'))\n",
    "\n",
    "for split in range(n_splits):\n",
    "    single_fold = next(cv_iter)\n",
    "    for idx, group in enumerate(single_fold):\n",
    "        for subject in group:\n",
    "            ax.add_patch(patches.Rectangle((subject-0.5,split+1-box_width/2),1,box_width,facecolor = c_arr[idx]))\n",
    "\n",
    "ax.set_xticks(np.arange(0, len_array))\n",
    "ax.set_xticklabels(names, rotation = 90)\n",
    "ax.set_ylim([-1.8, n_splits+0.8])\n",
    "ax.set_xlim([-1.5,len_array])\n",
    "ax.set_yticks(np.arange(-1,n_splits+2))\n",
    "ax.set_title('k-fold CV')\n",
    "ax.set_ylabel('CV iteration')\n",
    "yticks = ['uni (y/n)', 'year']\n",
    "for n in range(n_splits): yticks.append(n)\n",
    "ax.set_yticklabels(yticks)\n",
    "plt.savefig('k_cv.png', dpi = 300, bbox_inches = 'tight')\n",
    "plt.show()"
   ]
  },
  {
   "cell_type": "markdown",
   "metadata": {},
   "source": [
    "As we can see, at each 1/k cross-validation iteration, a 1/k (i.e. a quarter in this example) of the data is held out for testing (shown in <span style=\"color:#D14124\">red</span>) while the rest is used for training (shown in <span style=\"color:#0957C3\">blue</span>).\n",
    "\n",
    "The `year` and `uni (y/n)` are ignored in determining the train-test splits of the k-fold cross-validation, but we might imagine a situation where we'd like to take them into account. Perhaps we're training a model to predict which students will go on to study at university. As we can see, our dataset is very imbalanced with regards to this target variable. We'd like our training-test splits to reflect this. Luckily, `StratifiedKFold` does just that."
   ]
  },
  {
   "cell_type": "markdown",
   "metadata": {},
   "source": [
    "### Stratified k-fold"
   ]
  },
  {
   "cell_type": "code",
   "execution_count": 175,
   "metadata": {},
   "outputs": [
    {
     "data": {
      "image/png": "[encoded data removed]",
      "text/plain": [
       "<Figure size 720x576 with 1 Axes>"
      ]
     },
     "metadata": {},
     "output_type": "display_data"
    }
   ],
   "source": [
    "cv_iter = StratifiedKFold(n_splits=n_splits).split(np.arange(0,20),y=student_df['uni (y/n)'])\n",
    "\n",
    "\n",
    "fig, ax = plt.subplots(figsize = [10, 8])\n",
    "\n",
    "box_width = 0.8\n",
    "\n",
    "for subject, yr in enumerate(school_year):\n",
    "        if yr == '2014':\n",
    "            ax.add_patch(patches.Rectangle((subject-0.5,0-box_width/2),1,box_width,facecolor = c_arr[2],\n",
    "                                          label = '2014'))\n",
    "            \n",
    "        if yr == '2015':\n",
    "            ax.add_patch(patches.Rectangle((subject-0.5,0-box_width/2),1,box_width,facecolor = c_arr[3],\n",
    "                                          label = '2015'))\n",
    "            \n",
    "for subject, unibool in enumerate(went_to_uni):\n",
    "        if unibool == 'y':\n",
    "            ax.add_patch(patches.Rectangle((subject-0.5,-1-box_width/2),1,box_width,facecolor = c_arr[4],\n",
    "                                          label = 'y'))\n",
    "        if unibool == 'n':\n",
    "            ax.add_patch(patches.Rectangle((subject-0.5,-1-box_width/2),1,box_width,facecolor = c_arr[5],\n",
    "                                          label = 'n'))\n",
    "\n",
    "for split in range(n_splits):\n",
    "    single_fold = next(cv_iter)\n",
    "    for idx, group in enumerate(single_fold):\n",
    "        for subject in group:\n",
    "            ax.add_patch(patches.Rectangle((subject-0.5,split+1-box_width/2),1,box_width,facecolor = c_arr[idx]))\n",
    "\n",
    "ax.set_xticks(np.arange(0, len_array))\n",
    "ax.set_xticklabels(names, rotation = 90)\n",
    "ax.set_ylim([-1.8, n_splits+0.8])\n",
    "ax.set_xlim([-1.5,len_array])\n",
    "ax.set_yticks(np.arange(-1,n_splits+2))\n",
    "ax.set_title('Stratified k-fold CV')\n",
    "ax.set_ylabel('CV iteration')\n",
    "yticks = ['uni (y/n)', 'year']\n",
    "for n in range(n_splits): yticks.append(n)\n",
    "ax.set_yticklabels(yticks)\n",
    "plt.savefig('k_stratified_cv.png', dpi = 300, bbox_inches = 'tight')\n",
    "plt.show()"
   ]
  },
  {
   "cell_type": "markdown",
   "metadata": {},
   "source": [
    "We can see that the train-test splits reflect the stratification of the dataset with regards to the target variable `uni (y/n)`."
   ]
  },
  {
   "cell_type": "markdown",
   "metadata": {},
   "source": [
    "### Grouped k-fold\n",
    "\n",
    "We might also want a k-fold stratifier that takes account of how our data is grouped, `GroupKFold` keeps groups separated from eachother in the train-test splits. In this case the group is graduation year, and we only have two such years, so only two splits are possible:"
   ]
  },
  {
   "cell_type": "code",
   "execution_count": 178,
   "metadata": {},
   "outputs": [
    {
     "data": {
      "image/png": "[encoded data removed]",
      "text/plain": [
       "<Figure size 720x576 with 1 Axes>"
      ]
     },
     "metadata": {},
     "output_type": "display_data"
    }
   ],
   "source": [
    "n_splits = 2\n",
    "cv_iter = GroupKFold(n_splits=n_splits).split(np.arange(0,20),groups=student_df['year'])\n",
    "\n",
    "\n",
    "fig, ax = plt.subplots(figsize = [10, 8])\n",
    "\n",
    "box_width = 0.8\n",
    "\n",
    "for subject, yr in enumerate(school_year):\n",
    "        if yr == '2014':\n",
    "            ax.add_patch(patches.Rectangle((subject-0.5,0-box_width/2),1,box_width,facecolor = c_arr[2],\n",
    "                                          label = '2014'))\n",
    "            \n",
    "        if yr == '2015':\n",
    "            ax.add_patch(patches.Rectangle((subject-0.5,0-box_width/2),1,box_width,facecolor = c_arr[3],\n",
    "                                          label = '2015'))\n",
    "            \n",
    "for subject, unibool in enumerate(went_to_uni):\n",
    "        if unibool == 'y':\n",
    "            ax.add_patch(patches.Rectangle((subject-0.5,-1-box_width/2),1,box_width,facecolor = c_arr[4],\n",
    "                                          label = 'y'))\n",
    "        if unibool == 'n':\n",
    "            ax.add_patch(patches.Rectangle((subject-0.5,-1-box_width/2),1,box_width,facecolor = c_arr[5],\n",
    "                                          label = 'n'))\n",
    "\n",
    "for split in range(n_splits):\n",
    "    single_fold = next(cv_iter)\n",
    "    for idx, group in enumerate(single_fold):\n",
    "        for subject in group:\n",
    "            ax.add_patch(patches.Rectangle((subject-0.5,split+1-box_width/2),1,box_width,facecolor = c_arr[idx]))\n",
    "\n",
    "ax.set_xticks(np.arange(0, len_array))\n",
    "ax.set_xticklabels(names, rotation = 90)\n",
    "ax.set_ylim([-1.8, n_splits+0.8])\n",
    "ax.set_xlim([-1.5,len_array])\n",
    "ax.set_yticks(np.arange(-1,n_splits+2))\n",
    "ax.set_title('Grouped k-fold CV')\n",
    "ax.set_ylabel('CV iteration')\n",
    "yticks = ['uni (y/n)', 'year']\n",
    "for n in range(n_splits): yticks.append(n)\n",
    "ax.set_yticklabels(yticks)\n",
    "plt.savefig('k_grouped_cv.png', dpi = 300, bbox_inches = 'tight')\n",
    "plt.show()"
   ]
  },
  {
   "cell_type": "markdown",
   "metadata": {},
   "source": [
    "## Beyond k-fold cross-validators"
   ]
  },
  {
   "cell_type": "code",
   "execution_count": null,
   "metadata": {},
   "outputs": [],
   "source": []
  },
  {
   "cell_type": "code",
   "execution_count": 23,
   "metadata": {},
   "outputs": [
    {
     "data": {
      "text/html": [
       "<div>\n",
       "<style scoped>\n",
       "    .dataframe tbody tr th:only-of-type {\n",
       "        vertical-align: middle;\n",
       "    }\n",
       "\n",
       "    .dataframe tbody tr th {\n",
       "        vertical-align: top;\n",
       "    }\n",
       "\n",
       "    .dataframe thead th {\n",
       "        text-align: right;\n",
       "    }\n",
       "</style>\n",
       "<table border=\"1\" class=\"dataframe\">\n",
       "  <thead>\n",
       "    <tr style=\"text-align: right;\">\n",
       "      <th></th>\n",
       "      <th>final_year</th>\n",
       "      <th>height_cm</th>\n",
       "      <th>iq</th>\n",
       "      <th>name</th>\n",
       "      <th>weight_kg</th>\n",
       "      <th>went_to_top_uni</th>\n",
       "    </tr>\n",
       "  </thead>\n",
       "  <tbody>\n",
       "    <tr>\n",
       "      <th>0</th>\n",
       "      <td>2016</td>\n",
       "      <td>74.264877</td>\n",
       "      <td>102.080923</td>\n",
       "      <td>Mckenzie</td>\n",
       "      <td>43.100789</td>\n",
       "      <td>True</td>\n",
       "    </tr>\n",
       "    <tr>\n",
       "      <th>1</th>\n",
       "      <td>2006</td>\n",
       "      <td>121.457524</td>\n",
       "      <td>59.592924</td>\n",
       "      <td>Samuel</td>\n",
       "      <td>39.574102</td>\n",
       "      <td>False</td>\n",
       "    </tr>\n",
       "    <tr>\n",
       "      <th>2</th>\n",
       "      <td>2004</td>\n",
       "      <td>140.524129</td>\n",
       "      <td>114.444019</td>\n",
       "      <td>Dee</td>\n",
       "      <td>49.961175</td>\n",
       "      <td>False</td>\n",
       "    </tr>\n",
       "    <tr>\n",
       "      <th>3</th>\n",
       "      <td>2018</td>\n",
       "      <td>172.941518</td>\n",
       "      <td>73.831970</td>\n",
       "      <td>Andres</td>\n",
       "      <td>77.051814</td>\n",
       "      <td>False</td>\n",
       "    </tr>\n",
       "    <tr>\n",
       "      <th>4</th>\n",
       "      <td>2001</td>\n",
       "      <td>135.332768</td>\n",
       "      <td>49.360151</td>\n",
       "      <td>Ramon</td>\n",
       "      <td>72.790075</td>\n",
       "      <td>False</td>\n",
       "    </tr>\n",
       "  </tbody>\n",
       "</table>\n",
       "</div>"
      ],
      "text/plain": [
       "   final_year   height_cm          iq      name  weight_kg  went_to_top_uni\n",
       "0        2016   74.264877  102.080923  Mckenzie  43.100789             True\n",
       "1        2006  121.457524   59.592924    Samuel  39.574102            False\n",
       "2        2004  140.524129  114.444019       Dee  49.961175            False\n",
       "3        2018  172.941518   73.831970    Andres  77.051814            False\n",
       "4        2001  135.332768   49.360151     Ramon  72.790075            False"
      ]
     },
     "metadata": {},
     "output_type": "display_data"
    }
   ],
   "source": [
    "student_df, poly_params = make_student_table(n_subjects, n_groups, imbalance, noise, yrly_std)\n",
    "# n.b. name staken from https://github.com/hadley/data-baby-names/blob/master/baby-names.csv\n",
    "\n",
    "# also make splits for training models \n",
    "X = student_df.drop(columns = ['name', 'final_year', 'went_to_top_uni'])\n",
    "y = student_df['went_to_top_uni']\n",
    "\n",
    "display(student_df.head(5))"
   ]
  },
  {
   "cell_type": "code",
   "execution_count": 5,
   "metadata": {},
   "outputs": [
    {
     "data": {
      "text/html": [
       "<style scoped>\n",
       "  .ansiout {\n",
       "    display: block;\n",
       "    unicode-bidi: embed;\n",
       "    white-space: pre-wrap;\n",
       "    word-wrap: break-word;\n",
       "    word-break: break-all;\n",
       "    font-family: \"Source Code Pro\", \"Menlo\", monospace;;\n",
       "    font-size: 13px;\n",
       "    color: #555;\n",
       "    margin-left: 4px;\n",
       "    line-height: 19px;\n",
       "  }\n",
       "</style>\n",
       "<div class=\"ansiout\"></div>"
      ]
     },
     "metadata": {},
     "output_type": "display_data"
    }
   ],
   "source": [
    "#import scipy as sp"
   ]
  },
  {
   "cell_type": "code",
   "execution_count": 25,
   "metadata": {},
   "outputs": [],
   "source": [
    "clf = RandomForestClassifier(verbose=True,n_jobs=-1)\n",
    "\n",
    "# and we'll do a search in hyper parameter space for the best params,\n",
    "# here specify parameters and distributions to sample from\n",
    "param_dist = {\"n_estimators\": sp_randint(10, 500),\n",
    "              \"max_depth\": [3, None],\n",
    "              \"min_samples_split\": sp_randint(2, 11),\n",
    "              \"min_samples_leaf\": sp_randint(1, 11),\n",
    "              \"bootstrap\": [True, False],\n",
    "              \"criterion\": [\"gini\", \"entropy\"],\n",
    "             'class_weight':[{1: w} for w in [1, 3, 10, 30, 50, 100,1000]]}\n",
    "\n",
    "# run randomized search for a given number of iterations\n",
    "n_iter_search = 50\n",
    "\n",
    "# find best model scoring on area under precision recall curve, aka average precision\n",
    "model_scoring = 'average_precision'\n",
    "\n",
    "# params for the cross validators\n",
    "number_of_cv_splits = 3\n",
    "test_size = 0.33\n",
    "\n",
    "# a few cross-validators to try:\n",
    "sss = StratifiedShuffleSplit(n_splits = number_of_cv_splits, test_size = test_size)\n",
    "gss = GroupShuffleSplit(n_splits = number_of_cv_splits, test_size = test_size)\n",
    "# this is the cross validator we've made\n",
    "gsssb = GroupStratifiedShuffleSplitBinary(y, student_df['final_year'], n_splits = number_of_cv_splits, frac_train = (1-test_size))"
   ]
  },
  {
   "cell_type": "code",
   "execution_count": 26,
   "metadata": {},
   "outputs": [
    {
     "data": {
      "text/html": [
       "<div>\n",
       "<style scoped>\n",
       "    .dataframe tbody tr th:only-of-type {\n",
       "        vertical-align: middle;\n",
       "    }\n",
       "\n",
       "    .dataframe tbody tr th {\n",
       "        vertical-align: top;\n",
       "    }\n",
       "\n",
       "    .dataframe thead th {\n",
       "        text-align: right;\n",
       "    }\n",
       "</style>\n",
       "<table border=\"1\" class=\"dataframe\">\n",
       "  <thead>\n",
       "    <tr style=\"text-align: right;\">\n",
       "      <th></th>\n",
       "      <th>final_year</th>\n",
       "      <th>height_cm</th>\n",
       "      <th>iq</th>\n",
       "      <th>name</th>\n",
       "      <th>weight_kg</th>\n",
       "      <th>went_to_top_uni</th>\n",
       "    </tr>\n",
       "  </thead>\n",
       "  <tbody>\n",
       "    <tr>\n",
       "      <th>0</th>\n",
       "      <td>2016</td>\n",
       "      <td>74.264877</td>\n",
       "      <td>102.080923</td>\n",
       "      <td>Mckenzie</td>\n",
       "      <td>43.100789</td>\n",
       "      <td>True</td>\n",
       "    </tr>\n",
       "    <tr>\n",
       "      <th>1</th>\n",
       "      <td>2006</td>\n",
       "      <td>121.457524</td>\n",
       "      <td>59.592924</td>\n",
       "      <td>Samuel</td>\n",
       "      <td>39.574102</td>\n",
       "      <td>False</td>\n",
       "    </tr>\n",
       "    <tr>\n",
       "      <th>2</th>\n",
       "      <td>2004</td>\n",
       "      <td>140.524129</td>\n",
       "      <td>114.444019</td>\n",
       "      <td>Dee</td>\n",
       "      <td>49.961175</td>\n",
       "      <td>False</td>\n",
       "    </tr>\n",
       "    <tr>\n",
       "      <th>3</th>\n",
       "      <td>2018</td>\n",
       "      <td>172.941518</td>\n",
       "      <td>73.831970</td>\n",
       "      <td>Andres</td>\n",
       "      <td>77.051814</td>\n",
       "      <td>False</td>\n",
       "    </tr>\n",
       "    <tr>\n",
       "      <th>4</th>\n",
       "      <td>2001</td>\n",
       "      <td>135.332768</td>\n",
       "      <td>49.360151</td>\n",
       "      <td>Ramon</td>\n",
       "      <td>72.790075</td>\n",
       "      <td>False</td>\n",
       "    </tr>\n",
       "  </tbody>\n",
       "</table>\n",
       "</div>"
      ],
      "text/plain": [
       "   final_year   height_cm          iq      name  weight_kg  went_to_top_uni\n",
       "0        2016   74.264877  102.080923  Mckenzie  43.100789             True\n",
       "1        2006  121.457524   59.592924    Samuel  39.574102            False\n",
       "2        2004  140.524129  114.444019       Dee  49.961175            False\n",
       "3        2018  172.941518   73.831970    Andres  77.051814            False\n",
       "4        2001  135.332768   49.360151     Ramon  72.790075            False"
      ]
     },
     "metadata": {},
     "output_type": "display_data"
    }
   ],
   "source": [
    "display(student_df.head())"
   ]
  },
  {
   "cell_type": "code",
   "execution_count": 27,
   "metadata": {},
   "outputs": [
    {
     "name": "stderr",
     "output_type": "stream",
     "text": [
      "[Parallel(n_jobs=-1)]: Done  34 tasks      | elapsed:    0.0s\n",
      "[Parallel(n_jobs=-1)]: Done 195 out of 195 | elapsed:    0.1s finished\n",
      "[Parallel(n_jobs=-1)]: Done  34 tasks      | elapsed:    0.0s\n",
      "[Parallel(n_jobs=-1)]: Done 184 tasks      | elapsed:    0.1s\n",
      "[Parallel(n_jobs=-1)]: Done 350 out of 350 | elapsed:    0.3s finished\n",
      "[Parallel(n_jobs=-1)]: Done  34 tasks      | elapsed:    0.0s\n",
      "[Parallel(n_jobs=-1)]: Done 184 tasks      | elapsed:    0.1s\n",
      "[Parallel(n_jobs=-1)]: Done 434 tasks      | elapsed:    0.4s\n",
      "[Parallel(n_jobs=-1)]: Done 466 out of 466 | elapsed:    0.4s finished\n"
     ]
    },
    {
     "data": {
      "text/plain": [
       "RandomizedSearchCV(cv=<__main__.GroupStratifiedShuffleSplitBinary object at 0x0000021BC8A30588>,\n",
       "          error_score='raise',\n",
       "          estimator=RandomForestClassifier(bootstrap=True, class_weight=None, criterion='gini',\n",
       "            max_depth=None, max_features='auto', max_leaf_nodes=None,\n",
       "            min_impurity_decrease=0.0, min_impurity_split=None,\n",
       "            min_samples_leaf=1, min_samples_split=2,\n",
       "            min_weight_fraction_leaf=0.0, n_estimators=10, n_jobs=-1,\n",
       "            oob_score=False, random_state=None, verbose=True,\n",
       "            warm_start=False),\n",
       "          fit_params=None, iid=True, n_iter=50, n_jobs=-1,\n",
       "          param_distributions={'n_estimators': <scipy.stats._distn_infrastructure.rv_frozen object at 0x0000021BC8A30550>, 'max_depth': [3, None], 'min_samples_split': <scipy.stats._distn_infrastructure.rv_frozen object at 0x0000021BC8A30710>, 'min_samples_leaf': <scipy.stats._distn_infrastructure.rv_frozen object at 0x0000021BC8A30898>, 'bootstrap': [True, False], 'criterion': ['gini', 'entropy'], 'class_weight': [{1: 1}, {1: 3}, {1: 10}, {1: 30}, {1: 50}, {1: 100}, {1: 1000}]},\n",
       "          pre_dispatch='2*n_jobs', random_state=None, refit=True,\n",
       "          return_train_score='warn', scoring='average_precision',\n",
       "          verbose=0)"
      ]
     },
     "execution_count": 27,
     "metadata": {},
     "output_type": "execute_result"
    }
   ],
   "source": [
    "# StratifiedShuffleSplit\n",
    "random_search_sss = RandomizedSearchCV(clf, param_distributions=param_dist, n_iter=n_iter_search,\n",
    "                                   cv=sss, n_jobs=-1, scoring=model_scoring)\n",
    "random_search_sss.fit(X, y, groups = student_df['final_year'])\n",
    "\n",
    "# GroupShuffleSplit\n",
    "random_search_gss = RandomizedSearchCV(clf, param_distributions=param_dist, n_iter=n_iter_search,\n",
    "                                   cv=gss, n_jobs=-1, scoring=model_scoring)\n",
    "random_search_gss.fit(X, y, student_df['final_year'])\n",
    "\n",
    "# GroupStratifiedShuffleSplitBinary\n",
    "random_search_gsssb = RandomizedSearchCV(clf, param_distributions=param_dist, n_iter=n_iter_search,\n",
    "                                   cv=gsssb, n_jobs=-1, scoring=model_scoring)\n",
    "random_search_gsssb.fit(X, y, student_df['final_year'])"
   ]
  },
  {
   "cell_type": "code",
   "execution_count": 28,
   "metadata": {},
   "outputs": [
    {
     "data": {
      "image/png": "[encoded data removed]",
      "text/plain": [
       "<Figure size 1296x576 with 3 Axes>"
      ]
     },
     "metadata": {},
     "output_type": "display_data"
    },
    {
     "data": {
      "image/png": "[encoded data removed]",
      "text/plain": [
       "<Figure size 1296x576 with 3 Axes>"
      ]
     },
     "metadata": {},
     "output_type": "display_data"
    },
    {
     "data": {
      "image/png": "[encoded data removed]",
      "text/plain": [
       "<Figure size 1296x576 with 3 Axes>"
      ]
     },
     "metadata": {},
     "output_type": "display_data"
    },
    {
     "data": {
      "image/png": "[encoded data removed]",
      "text/plain": [
       "<Figure size 1296x576 with 3 Axes>"
      ]
     },
     "metadata": {},
     "output_type": "display_data"
    },
    {
     "data": {
      "image/png": "[encoded data removed]",
      "text/plain": [
       "<Figure size 1296x576 with 3 Axes>"
      ]
     },
     "metadata": {},
     "output_type": "display_data"
    }
   ],
   "source": [
    "res_dict = {'StratifiedShuffleSplit': random_search_sss, \n",
    "            'GroupShuffleSplit' : random_search_gss,\n",
    "           'GroupStratifiedShuffleSplitBinary' : random_search_gsssb}\n",
    "plot_multiple_hyperplots(res_dict)"
   ]
  },
  {
   "cell_type": "code",
   "execution_count": 10,
   "metadata": {},
   "outputs": [
    {
     "data": {
      "text/html": [
       "<style scoped>\n",
       "  .ansiout {\n",
       "    display: block;\n",
       "    unicode-bidi: embed;\n",
       "    white-space: pre-wrap;\n",
       "    word-wrap: break-word;\n",
       "    word-break: break-all;\n",
       "    font-family: \"Source Code Pro\", \"Menlo\", monospace;;\n",
       "    font-size: 13px;\n",
       "    color: #555;\n",
       "    margin-left: 4px;\n",
       "    line-height: 19px;\n",
       "  }\n",
       "</style>\n",
       "<div class=\"ansiout\"></div>"
      ]
     },
     "metadata": {},
     "output_type": "display_data"
    }
   ],
   "source": [
    "latest_student_df, poly_params = make_student_table(np.round(n_subjects/n_groups).astype(int), 1, imbalance, noise, yrly_std, poly_params)"
   ]
  },
  {
   "cell_type": "code",
   "execution_count": 29,
   "metadata": {},
   "outputs": [
    {
     "ename": "NameError",
     "evalue": "name 'name_array' is not defined",
     "output_type": "error",
     "traceback": [
      "\u001b[1;31m---------------------------------------------------------------------------\u001b[0m",
      "\u001b[1;31mNameError\u001b[0m                                 Traceback (most recent call last)",
      "\u001b[1;32m<ipython-input-29-f2ffb05bd0d1>\u001b[0m in \u001b[0;36m<module>\u001b[1;34m()\u001b[0m\n\u001b[0;32m      1\u001b[0m \u001b[1;31m# next year's data becomes available\u001b[0m\u001b[1;33m\u001b[0m\u001b[1;33m\u001b[0m\u001b[0m\n\u001b[1;32m----> 2\u001b[1;33m latest_student_df = pd.DataFrame(data = {  'name' : np.random.choice(name_array, np.round(n_subjects/n_groups).astype(int)),\n\u001b[0m\u001b[0;32m      3\u001b[0m                                     \u001b[1;34m'weight_kg'\u001b[0m \u001b[1;33m:\u001b[0m \u001b[0mnp\u001b[0m\u001b[1;33m.\u001b[0m\u001b[0mrandom\u001b[0m\u001b[1;33m.\u001b[0m\u001b[0mnormal\u001b[0m\u001b[1;33m(\u001b[0m\u001b[1;36m50\u001b[0m\u001b[1;33m,\u001b[0m \u001b[1;36m10\u001b[0m\u001b[1;33m,\u001b[0m \u001b[0mnp\u001b[0m\u001b[1;33m.\u001b[0m\u001b[0mround\u001b[0m\u001b[1;33m(\u001b[0m\u001b[0mn_subjects\u001b[0m\u001b[1;33m/\u001b[0m\u001b[0mn_groups\u001b[0m\u001b[1;33m)\u001b[0m\u001b[1;33m.\u001b[0m\u001b[0mastype\u001b[0m\u001b[1;33m(\u001b[0m\u001b[0mint\u001b[0m\u001b[1;33m)\u001b[0m\u001b[1;33m)\u001b[0m\u001b[1;33m,\u001b[0m\u001b[1;33m\u001b[0m\u001b[0m\n\u001b[0;32m      4\u001b[0m                                     \u001b[1;34m'height_cm'\u001b[0m \u001b[1;33m:\u001b[0m \u001b[0mnp\u001b[0m\u001b[1;33m.\u001b[0m\u001b[0mrandom\u001b[0m\u001b[1;33m.\u001b[0m\u001b[0mnormal\u001b[0m\u001b[1;33m(\u001b[0m\u001b[1;36m130\u001b[0m\u001b[1;33m,\u001b[0m \u001b[1;36m30\u001b[0m\u001b[1;33m,\u001b[0m \u001b[0mnp\u001b[0m\u001b[1;33m.\u001b[0m\u001b[0mround\u001b[0m\u001b[1;33m(\u001b[0m\u001b[0mn_subjects\u001b[0m\u001b[1;33m/\u001b[0m\u001b[0mn_groups\u001b[0m\u001b[1;33m)\u001b[0m\u001b[1;33m.\u001b[0m\u001b[0mastype\u001b[0m\u001b[1;33m(\u001b[0m\u001b[0mint\u001b[0m\u001b[1;33m)\u001b[0m\u001b[1;33m)\u001b[0m\u001b[1;33m,\u001b[0m\u001b[1;33m\u001b[0m\u001b[0m\n\u001b[0;32m      5\u001b[0m                                     \u001b[1;34m'iq'\u001b[0m \u001b[1;33m:\u001b[0m \u001b[0mnp\u001b[0m\u001b[1;33m.\u001b[0m\u001b[0mrandom\u001b[0m\u001b[1;33m.\u001b[0m\u001b[0mnormal\u001b[0m\u001b[1;33m(\u001b[0m\u001b[1;36m100\u001b[0m\u001b[1;33m,\u001b[0m \u001b[1;36m20\u001b[0m\u001b[1;33m,\u001b[0m \u001b[0mnp\u001b[0m\u001b[1;33m.\u001b[0m\u001b[0mround\u001b[0m\u001b[1;33m(\u001b[0m\u001b[0mn_subjects\u001b[0m\u001b[1;33m/\u001b[0m\u001b[0mn_groups\u001b[0m\u001b[1;33m)\u001b[0m\u001b[1;33m.\u001b[0m\u001b[0mastype\u001b[0m\u001b[1;33m(\u001b[0m\u001b[0mint\u001b[0m\u001b[1;33m)\u001b[0m\u001b[1;33m)\u001b[0m\u001b[1;33m,\u001b[0m\u001b[1;33m\u001b[0m\u001b[0m\n",
      "\u001b[1;31mNameError\u001b[0m: name 'name_array' is not defined"
     ]
    }
   ],
   "source": [
    "# next year's data becomes available\n",
    "latest_student_df = pd.DataFrame(data = {  'name' : np.random.choice(name_array, np.round(n_subjects/n_groups).astype(int)),\n",
    "                                    'weight_kg' : np.random.normal(50, 10, np.round(n_subjects/n_groups).astype(int)),\n",
    "                                    'height_cm' : np.random.normal(130, 30, np.round(n_subjects/n_groups).astype(int)),\n",
    "                                    'iq' : np.random.normal(100, 20, np.round(n_subjects/n_groups).astype(int)),\n",
    "                                    'final_year' : np.repeat(2019, np.round(n_subjects/n_groups).astype(int)),\n",
    "                                  })\n",
    "\n",
    "# calculate indicator\n",
    "latest_student_df['went_to_top_uni'] = went_to_top_uni_TF(latest_student_df, imbalance, [2019], np.random.normal(1, yrly_std , 1))"
   ]
  },
  {
   "cell_type": "code",
   "execution_count": 12,
   "metadata": {},
   "outputs": [
    {
     "data": {
      "text/html": [
       "<style scoped>\n",
       "  .ansiout {\n",
       "    display: block;\n",
       "    unicode-bidi: embed;\n",
       "    white-space: pre-wrap;\n",
       "    word-wrap: break-word;\n",
       "    word-break: break-all;\n",
       "    font-family: \"Source Code Pro\", \"Menlo\", monospace;;\n",
       "    font-size: 13px;\n",
       "    color: #555;\n",
       "    margin-left: 4px;\n",
       "    line-height: 19px;\n",
       "  }\n",
       "</style>\n",
       "<div class=\"ansiout\"></div>"
      ]
     },
     "metadata": {},
     "output_type": "display_data"
    }
   ],
   "source": [
    "latest_student_df.final_year = 2019"
   ]
  },
  {
   "cell_type": "code",
   "execution_count": 13,
   "metadata": {},
   "outputs": [
    {
     "data": {
      "text/html": [
       "<style scoped>\n",
       "  .table-result-container {\n",
       "    max-height: 300px;\n",
       "    overflow: auto;\n",
       "  }\n",
       "  table, th, td {\n",
       "    border: 1px solid black;\n",
       "    border-collapse: collapse;\n",
       "  }\n",
       "  th, td {\n",
       "    padding: 5px;\n",
       "  }\n",
       "  th {\n",
       "    text-align: left;\n",
       "  }\n",
       "</style><div class='table-result-container'><table class='table-result'><thead style='background-color: white'><tr><th>name</th><th>weight_kg</th><th>height_cm</th><th>iq</th><th>final_year</th><th>went_to_top_uni</th></tr></thead><tbody><tr><td>Savion</td><td>57.23188081945343</td><td>144.4540726245911</td><td>79.36760257119153</td><td>2019</td><td>false</td></tr><tr><td>Jan</td><td>45.91034882648427</td><td>189.67932308272628</td><td>68.04962707290747</td><td>2019</td><td>true</td></tr><tr><td>Jeanie</td><td>52.728821266813654</td><td>120.3683491489435</td><td>115.61381307760516</td><td>2019</td><td>false</td></tr><tr><td>Julien</td><td>53.38460190346505</td><td>117.01500915362307</td><td>111.44682085086558</td><td>2019</td><td>false</td></tr><tr><td>Electa</td><td>45.38086327608676</td><td>47.40991385744178</td><td>116.94680693887314</td><td>2019</td><td>false</td></tr></tbody></table></div>"
      ]
     },
     "metadata": {},
     "output_type": "display_data"
    }
   ],
   "source": [
    "display(latest_student_df.head())"
   ]
  },
  {
   "cell_type": "code",
   "execution_count": 14,
   "metadata": {},
   "outputs": [
    {
     "data": {
      "text/html": [
       "<style scoped>\n",
       "  .ansiout {\n",
       "    display: block;\n",
       "    unicode-bidi: embed;\n",
       "    white-space: pre-wrap;\n",
       "    word-wrap: break-word;\n",
       "    word-break: break-all;\n",
       "    font-family: \"Source Code Pro\", \"Menlo\", monospace;;\n",
       "    font-size: 13px;\n",
       "    color: #555;\n",
       "    margin-left: 4px;\n",
       "    line-height: 19px;\n",
       "  }\n",
       "</style>\n",
       "<div class=\"ansiout\">[Parallel(n_jobs=8)]: Done  34 tasks      | elapsed:    0.0s\n",
       "[Parallel(n_jobs=8)]: Done 184 tasks      | elapsed:    0.1s\n",
       "[Parallel(n_jobs=8)]: Done 244 out of 244 | elapsed:    0.1s finished\n",
       "[Parallel(n_jobs=8)]: Done  34 tasks      | elapsed:    0.0s\n",
       "[Parallel(n_jobs=8)]: Done 105 out of 105 | elapsed:    0.0s finished\n",
       "[Parallel(n_jobs=8)]: Done  34 tasks      | elapsed:    0.0s\n",
       "[Parallel(n_jobs=8)]: Done 184 tasks      | elapsed:    0.1s\n",
       "[Parallel(n_jobs=8)]: Done 265 out of 265 | elapsed:    0.1s finished\n",
       "[Parallel(n_jobs=8)]: Done  34 tasks      | elapsed:    0.0s\n",
       "[Parallel(n_jobs=8)]: Done 184 tasks      | elapsed:    0.1s\n",
       "[Parallel(n_jobs=8)]: Done 244 out of 244 | elapsed:    0.1s finished\n",
       "[Parallel(n_jobs=8)]: Done  34 tasks      | elapsed:    0.0s\n",
       "[Parallel(n_jobs=8)]: Done 105 out of 105 | elapsed:    0.0s finished\n",
       "[Parallel(n_jobs=8)]: Done  34 tasks      | elapsed:    0.0s\n",
       "[Parallel(n_jobs=8)]: Done 184 tasks      | elapsed:    0.1s\n",
       "[Parallel(n_jobs=8)]: Done 265 out of 265 | elapsed:    0.1s finished\n",
       "</div>"
      ]
     },
     "metadata": {},
     "output_type": "display_data"
    }
   ],
   "source": [
    "y_pred_gss = random_search_gss.best_estimator_.predict(latest_student_df.drop(columns = ['name', 'final_year', 'went_to_top_uni']))\n",
    "y_pred_sss = random_search_sss.best_estimator_.predict(latest_student_df.drop(columns = ['name', 'final_year', 'went_to_top_uni']))\n",
    "y_pred_gsssb = random_search_gsssb.best_estimator_.predict(latest_student_df.drop(columns = ['name', 'final_year', 'went_to_top_uni']))\n",
    "# probabilities\n",
    "y_prob_gss = random_search_gss.best_estimator_.predict_proba(latest_student_df.drop(columns = ['name', 'final_year', 'went_to_top_uni']))\n",
    "y_prob_sss = random_search_sss.best_estimator_.predict_proba(latest_student_df.drop(columns = ['name', 'final_year', 'went_to_top_uni']))\n",
    "y_prob_gsssb = random_search_gsssb.best_estimator_.predict_proba(latest_student_df.drop(columns = ['name', 'final_year', 'went_to_top_uni']))"
   ]
  },
  {
   "cell_type": "code",
   "execution_count": 15,
   "metadata": {},
   "outputs": [
    {
     "data": {
      "text/html": [
       "<style scoped>\n",
       "  .ansiout {\n",
       "    display: block;\n",
       "    unicode-bidi: embed;\n",
       "    white-space: pre-wrap;\n",
       "    word-wrap: break-word;\n",
       "    word-break: break-all;\n",
       "    font-family: \"Source Code Pro\", \"Menlo\", monospace;;\n",
       "    font-size: 13px;\n",
       "    color: #555;\n",
       "    margin-left: 4px;\n",
       "    line-height: 19px;\n",
       "  }\n",
       "</style>\n",
       "<div class=\"ansiout\"></div>"
      ]
     },
     "metadata": {},
     "output_type": "display_data"
    }
   ],
   "source": [
    "from sklearn.metrics import confusion_matrix, average_precision_score"
   ]
  },
  {
   "cell_type": "code",
   "execution_count": 16,
   "metadata": {},
   "outputs": [
    {
     "data": {
      "text/html": [
       "<style scoped>\n",
       "  .ansiout {\n",
       "    display: block;\n",
       "    unicode-bidi: embed;\n",
       "    white-space: pre-wrap;\n",
       "    word-wrap: break-word;\n",
       "    word-break: break-all;\n",
       "    font-family: \"Source Code Pro\", \"Menlo\", monospace;;\n",
       "    font-size: 13px;\n",
       "    color: #555;\n",
       "    margin-left: 4px;\n",
       "    line-height: 19px;\n",
       "  }\n",
       "</style>\n",
       "<div class=\"ansiout\">Out[61]: \n",
       "array([[448,   2],\n",
       "       [ 16,  34]])\n",
       "</div>"
      ]
     },
     "metadata": {},
     "output_type": "display_data"
    }
   ],
   "source": [
    "confusion_matrix(latest_student_df['went_to_top_uni'], y_pred_gss)"
   ]
  },
  {
   "cell_type": "code",
   "execution_count": 17,
   "metadata": {},
   "outputs": [
    {
     "data": {
      "text/html": [
       "<style scoped>\n",
       "  .ansiout {\n",
       "    display: block;\n",
       "    unicode-bidi: embed;\n",
       "    white-space: pre-wrap;\n",
       "    word-wrap: break-word;\n",
       "    word-break: break-all;\n",
       "    font-family: \"Source Code Pro\", \"Menlo\", monospace;;\n",
       "    font-size: 13px;\n",
       "    color: #555;\n",
       "    margin-left: 4px;\n",
       "    line-height: 19px;\n",
       "  }\n",
       "</style>\n",
       "<div class=\"ansiout\">Out[62]: \n",
       "array([[449,   1],\n",
       "       [ 15,  35]])\n",
       "</div>"
      ]
     },
     "metadata": {},
     "output_type": "display_data"
    }
   ],
   "source": [
    "confusion_matrix(latest_student_df['went_to_top_uni'], y_pred_sss)"
   ]
  },
  {
   "cell_type": "code",
   "execution_count": 18,
   "metadata": {},
   "outputs": [
    {
     "data": {
      "text/html": [
       "<style scoped>\n",
       "  .ansiout {\n",
       "    display: block;\n",
       "    unicode-bidi: embed;\n",
       "    white-space: pre-wrap;\n",
       "    word-wrap: break-word;\n",
       "    word-break: break-all;\n",
       "    font-family: \"Source Code Pro\", \"Menlo\", monospace;;\n",
       "    font-size: 13px;\n",
       "    color: #555;\n",
       "    margin-left: 4px;\n",
       "    line-height: 19px;\n",
       "  }\n",
       "</style>\n",
       "<div class=\"ansiout\">Out[63]: \n",
       "array([[450,   0],\n",
       "       [ 50,   0]])\n",
       "</div>"
      ]
     },
     "metadata": {},
     "output_type": "display_data"
    }
   ],
   "source": [
    "confusion_matrix(latest_student_df['went_to_top_uni'], y_pred_gsssb)"
   ]
  },
  {
   "cell_type": "code",
   "execution_count": 19,
   "metadata": {},
   "outputs": [
    {
     "data": {
      "text/html": [
       "<style scoped>\n",
       "  .ansiout {\n",
       "    display: block;\n",
       "    unicode-bidi: embed;\n",
       "    white-space: pre-wrap;\n",
       "    word-wrap: break-word;\n",
       "    word-break: break-all;\n",
       "    font-family: \"Source Code Pro\", \"Menlo\", monospace;;\n",
       "    font-size: 13px;\n",
       "    color: #555;\n",
       "    margin-left: 4px;\n",
       "    line-height: 19px;\n",
       "  }\n",
       "</style>\n",
       "<div class=\"ansiout\">Out[64]: 0.9507613796574825\n",
       "</div>"
      ]
     },
     "metadata": {},
     "output_type": "display_data"
    }
   ],
   "source": [
    "average_precision_score(latest_student_df['went_to_top_uni'], y_prob_gss[:,1])"
   ]
  },
  {
   "cell_type": "code",
   "execution_count": 20,
   "metadata": {},
   "outputs": [
    {
     "data": {
      "text/html": [
       "<style scoped>\n",
       "  .ansiout {\n",
       "    display: block;\n",
       "    unicode-bidi: embed;\n",
       "    white-space: pre-wrap;\n",
       "    word-wrap: break-word;\n",
       "    word-break: break-all;\n",
       "    font-family: \"Source Code Pro\", \"Menlo\", monospace;;\n",
       "    font-size: 13px;\n",
       "    color: #555;\n",
       "    margin-left: 4px;\n",
       "    line-height: 19px;\n",
       "  }\n",
       "</style>\n",
       "<div class=\"ansiout\">Out[65]: 0.9437969215423312\n",
       "</div>"
      ]
     },
     "metadata": {},
     "output_type": "display_data"
    }
   ],
   "source": [
    "average_precision_score(latest_student_df['went_to_top_uni'], y_prob_sss[:,1])"
   ]
  },
  {
   "cell_type": "code",
   "execution_count": 21,
   "metadata": {},
   "outputs": [
    {
     "data": {
      "text/html": [
       "<style scoped>\n",
       "  .ansiout {\n",
       "    display: block;\n",
       "    unicode-bidi: embed;\n",
       "    white-space: pre-wrap;\n",
       "    word-wrap: break-word;\n",
       "    word-break: break-all;\n",
       "    font-family: \"Source Code Pro\", \"Menlo\", monospace;;\n",
       "    font-size: 13px;\n",
       "    color: #555;\n",
       "    margin-left: 4px;\n",
       "    line-height: 19px;\n",
       "  }\n",
       "</style>\n",
       "<div class=\"ansiout\">Out[66]: 0.9855008297187008\n",
       "</div>"
      ]
     },
     "metadata": {},
     "output_type": "display_data"
    }
   ],
   "source": [
    "average_precision_score(latest_student_df['went_to_top_uni'], y_prob_gsssb[:,1])"
   ]
  },
  {
   "cell_type": "code",
   "execution_count": 22,
   "metadata": {},
   "outputs": [],
   "source": []
  }
 ],
 "metadata": {
  "kernelspec": {
   "display_name": "Python 3",
   "language": "python",
   "name": "python3"
  },
  "language_info": {
   "codemirror_mode": {
    "name": "ipython",
    "version": 3
   },
   "file_extension": ".py",
   "mimetype": "text/x-python",
   "name": "python",
   "nbconvert_exporter": "python",
   "pygments_lexer": "ipython3",
   "version": "3.6.5"
  },
  "name": "GroupStratifiedShuffleSplitBinary",
  "notebookId": 4109705956193200
 },
 "nbformat": 4,
 "nbformat_minor": 1
}
